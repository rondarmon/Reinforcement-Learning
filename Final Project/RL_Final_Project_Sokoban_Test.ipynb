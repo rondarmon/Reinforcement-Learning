{
  "cells": [
    {
      "cell_type": "markdown",
      "metadata": {
        "id": "dSvjwmu3vPMR"
      },
      "source": [
        "# Final Project - Reinforcements Learning\n",
        "## Test Notebook\n",
        "\n",
        "---\n",
        "<br>\n",
        "\n",
        "### Name and ID:\n",
        "Student 1: Roei Arpaly, XXXXXXXXX\n",
        "<br>\n",
        "Student 2: Ron Darmon, XXXXXXXXX\n",
        "<br><br>\n",
        "<img src=\"https://play-lh.googleusercontent.com/e_oKlKPISbgdzut1H9opevS7-LTB8-8lsmpCdMkhlnqFenZhpjxbLmx7l158-xQQCIY\">\n",
        "\n",
        "### https://github.com/mpSchrader/gym-sokoban"
      ]
    },
    {
      "cell_type": "markdown",
      "metadata": {
        "id": "HytTAqUru2vV"
      },
      "source": [
        "# General"
      ]
    },
    {
      "cell_type": "markdown",
      "metadata": {
        "id": "4T3qcykHFi15"
      },
      "source": [
        "## Installs"
      ]
    },
    {
      "cell_type": "code",
      "execution_count": null,
      "metadata": {
        "id": "2dah0RrY9Kmj"
      },
      "outputs": [],
      "source": [
        "%%capture\n",
        "!sudo apt-get update\n",
        "!sudo apt-get install -y xvfb ffmpeg freeglut3-dev\n",
        "!pip install 'imageio==2.4.0'\n",
        "!pip install gym\n",
        "!pip install pygame\n",
        "!apt-get install python-opengl -y\n",
        "!apt install xvfb -y\n",
        "!pip install pyvirtualdisplay\n",
        "!pip install piglet\n",
        "!pip install gym\n",
        "!apt-get install python-opengl -y\n",
        "!apt install xvfb -y\n",
        "!pip install gym_sokoban\n",
        "!git clone https://github.com/avivg7/sokoban-so.git\n",
        "!unzip /content/sokoban-so/Compress.zip\n",
        "!gdown --fuzzy 'https://drive.google.com/file/d/16XrmX0aVkDU_s8HPlECAY2OtieVRbvIB/view?usp=share_link'\n",
        "!gdown --fuzzy 'https://drive.google.com/file/d/1LbNV57j8qPblXWfvRQ1V5wo29zXNbgcg/view?usp=share_link'\n",
        "!gdown --fuzzy 'https://drive.google.com/file/d/1Lo-ii9tIgoSTUeoMIvB47GeUuw7B9mMl/view?usp=sharing'\n",
        "!gdown --fuzzy 'https://drive.google.com/file/d/1MzHrgJqmB4sBNkbuf4CzAXT84OGyX4Gl/view?usp=sharing'"
      ]
    },
    {
      "cell_type": "code",
      "source": [
        "!gdown --fuzzy 'https://drive.google.com/file/d/1Dr_7WVWNH_3rCQJNvi6qG1mnN6F2Pb2V/view?usp=sharing'  # gdown to the explainer.md file of this notebook"
      ],
      "metadata": {
        "id": "5i5aTZm3WskV"
      },
      "execution_count": null,
      "outputs": []
    },
    {
      "cell_type": "markdown",
      "metadata": {
        "id": "yHbKbI7BwIwv"
      },
      "source": [
        "## Imports"
      ]
    },
    {
      "cell_type": "code",
      "execution_count": null,
      "metadata": {
        "id": "1cNdWkV49OqN"
      },
      "outputs": [],
      "source": [
        "import numpy as np\n",
        "import gym\n",
        "from gym.utils import seeding\n",
        "from gym import error, spaces, utils\n",
        "from gym import logger as gymlogger\n",
        "gymlogger.set_level(40) # error only\n",
        "from soko_pap import *\n",
        "import glob\n",
        "import io\n",
        "import base64\n",
        "import os\n",
        "import random\n",
        "import matplotlib.pyplot as plt\n",
        "import math\n",
        "import glob\n",
        "from pyvirtualdisplay import Display\n",
        "from IPython.display import HTML\n",
        "from IPython import display as ipythondisplay\n",
        "import pygame\n",
        "import pyvirtualdisplay\n",
        "import imageio\n",
        "import IPython\n",
        "import time\n",
        "\n",
        "\n",
        "# Keras\n",
        "from keras.models import Sequential\n",
        "from keras.layers import Flatten, Dense, Conv2D, MaxPooling2D, ReLU, LeakyReLU\n",
        "from keras.optimizers import Adam"
      ]
    },
    {
      "cell_type": "markdown",
      "metadata": {
        "id": "J7bJeRHbwMIj"
      },
      "source": [
        "## Utils"
      ]
    },
    {
      "cell_type": "code",
      "execution_count": null,
      "metadata": {
        "id": "z41WGwQt9i7_"
      },
      "outputs": [],
      "source": [
        "def embed_mp4(filename):\n",
        "    \"\"\"Embeds an mp4 file in the notebook.\"\"\"\n",
        "    video = open(filename,'rb').read()\n",
        "    b64 = base64.b64encode(video)\n",
        "    tag = '''\n",
        "    <video width=\"640\" height=\"480\" controls>\n",
        "      <source src=\"data:video/mp4;base64,{0}\" type=\"video/mp4\">\n",
        "    Your browser does not support the video tag.\n",
        "    </video>'''.format(b64.decode())\n",
        "\n",
        "    return IPython.display.HTML(tag)\n",
        "display = pyvirtualdisplay.Display(visible=0, size=(1400, 900)).start()"
      ]
    },
    {
      "cell_type": "code",
      "source": [
        "def video_func(env, agent, fps=10):\n",
        "    start_time = time.time()\n",
        "    done = False\n",
        "    iter = 0\n",
        "    video_filename = 'imageio.mp4'\n",
        "    state = env.reset()\n",
        "    state = np.expand_dims(state, axis=0)\n",
        "    with imageio.get_writer(video_filename, fps=fps) as video:\n",
        "      video.append_data(env.render(mode='rgb_array'))\n",
        "      while (iter < 10) or not done:\n",
        "        time_passed = int(time.time() - start_time)\n",
        "        if done or time_passed > 3:\n",
        "          break\n",
        "        iter +=1\n",
        "\n",
        "        action = np.argmax(agent.predict(state, verbose=0)[0])\n",
        "        action = tiny_action_lookup[action]\n",
        "\n",
        "        state, reward, done, info = env.step(action, reward_shaping=False)\n",
        "        state = np.expand_dims(state, axis=0)\n",
        "        video.append_data(env.render(mode='rgb_array'))\n",
        "        \n",
        "    return embed_mp4(video_filename)"
      ],
      "metadata": {
        "id": "AiPG0QWgocpQ"
      },
      "execution_count": null,
      "outputs": []
    },
    {
      "cell_type": "code",
      "execution_count": null,
      "metadata": {
        "id": "Dz9LRTviu0uj"
      },
      "outputs": [],
      "source": [
        "tiny_action_lookup = {0:1, 1:2, 2:3, 3:4, 4:9, 5:10, 6:11, 7:12}  # use partial moves\n",
        "\n",
        "class EnvWrapper(gym.Wrapper):\n",
        "    def __init__(self, env, dim_room, num_boxes, max_steps, seed=2, mode='tiny_rgb_array', crop=True):\n",
        "        super().__init__(env)\n",
        "\n",
        "        self.seed = seed\n",
        "        self.dim_room = dim_room\n",
        "        self.num_boxes = num_boxes\n",
        "        self._max_steps = max_steps\n",
        "        self._mode = mode\n",
        "        self._crop = crop\n",
        "        \n",
        "        # The wrapper encapsulates and initialize the gym env\n",
        "        self.env = env(dim_room=self.dim_room, num_boxes=self.num_boxes, max_steps=self._max_steps)\n",
        "        self.last_state = self.reset()\n",
        "    \n",
        "    def xs_observation(self, state):\n",
        "        if self._mode == 'rgb_array' and not self._crop:\n",
        "            return state\n",
        "        elif self._mode == 'rgb_array' and self._crop:\n",
        "            return state[14:-14, 14:-14, :]\n",
        "        elif self._mode == 'tiny_rgb_array':\n",
        "            return state[1:-1, 1:-1, :]\n",
        "        else:  # grayscale\n",
        "            return state[1:-1, 1:-1, 0:1]\n",
        "              \n",
        "    def step(self, action, reward_shaping=False):\n",
        "        next_state, reward, done, info = self.env.step(action, observation_mode=self._mode)\n",
        "        next_state = self.xs_observation(next_state)\n",
        "        self.num_step += 1\n",
        "        self._box_position = np.hstack(np.where(self.env.room_state == 4))  # Take box position (4)\n",
        "\n",
        "        if len(self._box_position) > 0 and reward_shaping:\n",
        "            distance_to_target = np.sum(np.abs(np.array(self.end_location) - np.array(self._box_position)))\n",
        "            distance_to_box = -1 + np.sum(np.abs(np.array(self._box_position) - np.array(self.env.player_position)))\n",
        "            reward -= distance_to_target\n",
        "            reward -= distance_to_box\n",
        "        return next_state, reward, done, info\n",
        "    \n",
        "    def reset(self):\n",
        "        if self.seed:\n",
        "            random.seed(self.seed)\n",
        "        self.num_step = 0\n",
        "        state = self.env.reset()\n",
        "        state = self.env.render(mode=self._mode)\n",
        "\n",
        "        self.end_location = list(self.env.box_mapping.keys())[0]\n",
        "        self.start_location = list(self.env.box_mapping.values())[0]\n",
        "        self._box_position = self.start_location\n",
        "        state = self.xs_observation(state)\n",
        "        return state"
      ]
    },
    {
      "cell_type": "code",
      "source": [
        "def build_model(env):\n",
        "    CNN = Sequential()\n",
        "    CNN.add(Conv2D(32, kernel_size=5, input_shape=env.reset().shape))\n",
        "    CNN.add(MaxPooling2D(pool_size=(2, 2)))\n",
        "    CNN.add(ReLU())\n",
        "    CNN.add(Conv2D(64, kernel_size=5))\n",
        "    CNN.add(MaxPooling2D(pool_size=(2, 2)))\n",
        "    CNN.add(ReLU())\n",
        "    CNN.add(Conv2D(128, kernel_size=5))\n",
        "    CNN.add(MaxPooling2D(pool_size=(2, 2)))\n",
        "    CNN.add(ReLU())\n",
        "    CNN.add(Flatten())\n",
        "    CNN.add(Dense(512, activation='ReLU'))\n",
        "    CNN.add(Dense(8, activation='linear'))\n",
        "    CNN.compile(loss='mse', optimizer=Adam(learning_rate=0.005, clipnorm=1))\n",
        "    return CNN"
      ],
      "metadata": {
        "id": "GCrbG7A9fEHP"
      },
      "execution_count": null,
      "outputs": []
    },
    {
      "cell_type": "markdown",
      "metadata": {
        "id": "tDaTYUJ4iufr"
      },
      "source": [
        "# EX1 - FIX SCENARIO -  PUSH & PULL - ONE BOX"
      ]
    },
    {
      "cell_type": "code",
      "execution_count": null,
      "metadata": {
        "id": "QEDnVRyENJxa",
        "colab": {
          "base_uri": "https://localhost:8080/"
        },
        "outputId": "8f2feee8-fe79-4c6b-c09b-3e249c6f13eb"
      },
      "outputs": [
        {
          "output_type": "execute_result",
          "data": {
            "text/plain": [
              "<tensorflow.python.checkpoint.checkpoint.CheckpointLoadStatus at 0x7f86a16df430>"
            ]
          },
          "metadata": {},
          "execution_count": 7
        }
      ],
      "source": [
        "sokoban_env = EnvWrapper(env=PushAndPullSokobanEnv, dim_room=(7,7), num_boxes=1, max_steps=20, mode='rgb_array')\n",
        "agent = build_model(sokoban_env)\n",
        "agent.load_weights('/content/ex1_model_weights')"
      ]
    },
    {
      "cell_type": "code",
      "source": [
        "video_func(EnvWrapper(env=PushAndPullSokobanEnv, dim_room=(7,7), num_boxes=1, max_steps=20, mode='rgb_array'), agent)"
      ],
      "metadata": {
        "colab": {
          "base_uri": "https://localhost:8080/",
          "height": 538
        },
        "id": "D9amno5p1hzF",
        "outputId": "802a20f6-3b6d-4a7b-86ca-b7203a06a4f9"
      },
      "execution_count": null,
      "outputs": [
        {
          "output_type": "stream",
          "name": "stderr",
          "text": [
            "/usr/local/lib/python3.9/dist-packages/imageio/plugins/ffmpeg.py:727: DeprecationWarning: tostring() is deprecated. Use tobytes() instead.\n",
            "  self._proc.stdin.write(im.tostring())\n"
          ]
        },
        {
          "output_type": "execute_result",
          "data": {
            "text/plain": [
              "<IPython.core.display.HTML object>"
            ],
            "text/html": [
              "\n",
              "    <video width=\"640\" height=\"480\" controls>\n",
              "      <source src=\"data:video/mp4;base64,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\" type=\"video/mp4\">\n",
              "    Your browser does not support the video tag.\n",
              "    </video>"
            ]
          },
          "metadata": {},
          "execution_count": 8
        }
      ]
    },
    {
      "cell_type": "markdown",
      "metadata": {
        "id": "AuDtiXQ3l754"
      },
      "source": [
        "---"
      ]
    },
    {
      "cell_type": "markdown",
      "metadata": {
        "id": "mOt9e38LiUX_"
      },
      "source": [
        "# EX2 - PUSH & PULL - ONE BOX"
      ]
    },
    {
      "cell_type": "code",
      "execution_count": null,
      "metadata": {
        "id": "QuO5Vz6X9KFP"
      },
      "outputs": [],
      "source": [
        "#=============== DO NOT DELETE ===============\n",
        "sok_2 = PushAndPullSokobanEnv(dim_room=(7, 7), num_boxes=1)\n",
        "# ============================================"
      ]
    },
    {
      "cell_type": "code",
      "source": [
        "sokoban_env = EnvWrapper(env=PushAndPullSokobanEnv, dim_room=(7,7), num_boxes=1, max_steps=20, mode='rgb_array', crop=False)\n",
        "agent2 = build_model(sokoban_env)\n",
        "agent2.load_weights('/content/ex2_model_weights')"
      ],
      "metadata": {
        "id": "96Pl_etU3cZ_",
        "colab": {
          "base_uri": "https://localhost:8080/"
        },
        "outputId": "6de9b88d-de68-4244-e58c-760d7c78b893"
      },
      "execution_count": null,
      "outputs": [
        {
          "output_type": "execute_result",
          "data": {
            "text/plain": [
              "<tensorflow.python.checkpoint.checkpoint.CheckpointLoadStatus at 0x7f8692ff71f0>"
            ]
          },
          "metadata": {},
          "execution_count": 11
        }
      ]
    },
    {
      "cell_type": "code",
      "source": [
        "video_func(EnvWrapper(env=PushAndPullSokobanEnv, dim_room=(7,7), num_boxes=1, max_steps=20, mode='rgb_array', seed=None, crop=False), agent2)"
      ],
      "metadata": {
        "colab": {
          "base_uri": "https://localhost:8080/",
          "height": 538
        },
        "id": "ezbkFWY5j8Bv",
        "outputId": "3fa18669-1ac3-45b4-d9f0-5e20052bede1"
      },
      "execution_count": null,
      "outputs": [
        {
          "output_type": "stream",
          "name": "stderr",
          "text": [
            "/usr/local/lib/python3.9/dist-packages/imageio/plugins/ffmpeg.py:727: DeprecationWarning: tostring() is deprecated. Use tobytes() instead.\n",
            "  self._proc.stdin.write(im.tostring())\n"
          ]
        },
        {
          "output_type": "execute_result",
          "data": {
            "text/plain": [
              "<IPython.core.display.HTML object>"
            ],
            "text/html": [
              "\n",
              "    <video width=\"640\" height=\"480\" controls>\n",
              "      <source src=\"data:video/mp4;base64,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\" type=\"video/mp4\">\n",
              "    Your browser does not support the video tag.\n",
              "    </video>"
            ]
          },
          "metadata": {},
          "execution_count": 78
        }
      ]
    },
    {
      "cell_type": "code",
      "source": [
        "video_func(EnvWrapper(env=PushAndPullSokobanEnv, dim_room=(7,7), num_boxes=1, max_steps=20, mode='rgb_array', seed=9, crop=False), agent2)"
      ],
      "metadata": {
        "colab": {
          "base_uri": "https://localhost:8080/",
          "height": 501
        },
        "id": "eZBZJIasrkuS",
        "outputId": "77932a37-a7b8-4c6b-9ed5-ae588304e300"
      },
      "execution_count": null,
      "outputs": [
        {
          "output_type": "execute_result",
          "data": {
            "text/plain": [
              "<IPython.core.display.HTML object>"
            ],
            "text/html": [
              "\n",
              "    <video width=\"640\" height=\"480\" controls>\n",
              "      <source src=\"data:video/mp4;base64,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\" type=\"video/mp4\">\n",
              "    Your browser does not support the video tag.\n",
              "    </video>"
            ]
          },
          "metadata": {},
          "execution_count": 21
        }
      ]
    },
    {
      "cell_type": "code",
      "source": [
        "video_func(EnvWrapper(env=PushAndPullSokobanEnv, dim_room=(7,7), num_boxes=1, max_steps=20, mode='rgb_array', seed=46, crop=False), agent2)"
      ],
      "metadata": {
        "colab": {
          "base_uri": "https://localhost:8080/",
          "height": 501
        },
        "id": "E-46-Mr3r7Tn",
        "outputId": "eb632d97-449f-4a89-caa7-4d3aa95ca919"
      },
      "execution_count": null,
      "outputs": [
        {
          "output_type": "execute_result",
          "data": {
            "text/plain": [
              "<IPython.core.display.HTML object>"
            ],
            "text/html": [
              "\n",
              "    <video width=\"640\" height=\"480\" controls>\n",
              "      <source src=\"data:video/mp4;base64,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\" type=\"video/mp4\">\n",
              "    Your browser does not support the video tag.\n",
              "    </video>"
            ]
          },
          "metadata": {},
          "execution_count": 25
        }
      ]
    },
    {
      "cell_type": "code",
      "source": [
        "video_func(EnvWrapper(env=PushAndPullSokobanEnv, dim_room=(7,7), num_boxes=1, max_steps=20, mode='rgb_array', seed=99, crop=False), agent2)"
      ],
      "metadata": {
        "colab": {
          "base_uri": "https://localhost:8080/",
          "height": 501
        },
        "id": "2I7U0oTJrXpi",
        "outputId": "8052d378-d38d-4cb0-b8c3-0605a330bfd6"
      },
      "execution_count": null,
      "outputs": [
        {
          "output_type": "execute_result",
          "data": {
            "text/plain": [
              "<IPython.core.display.HTML object>"
            ],
            "text/html": [
              "\n",
              "    <video width=\"640\" height=\"480\" controls>\n",
              "      <source src=\"data:video/mp4;base64,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\" type=\"video/mp4\">\n",
              "    Your browser does not support the video tag.\n",
              "    </video>"
            ]
          },
          "metadata": {},
          "execution_count": 15
        }
      ]
    },
    {
      "cell_type": "code",
      "source": [
        "video_func(EnvWrapper(env=PushAndPullSokobanEnv, dim_room=(7,7), num_boxes=1, max_steps=20, mode='rgb_array', seed=100, crop=False), agent2)"
      ],
      "metadata": {
        "colab": {
          "base_uri": "https://localhost:8080/",
          "height": 501
        },
        "id": "sWkEoUDUrkDW",
        "outputId": "cb253d5c-ba59-42de-91c6-117c7c084d48"
      },
      "execution_count": null,
      "outputs": [
        {
          "output_type": "execute_result",
          "data": {
            "text/plain": [
              "<IPython.core.display.HTML object>"
            ],
            "text/html": [
              "\n",
              "    <video width=\"640\" height=\"480\" controls>\n",
              "      <source src=\"data:video/mp4;base64,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\" type=\"video/mp4\">\n",
              "    Your browser does not support the video tag.\n",
              "    </video>"
            ]
          },
          "metadata": {},
          "execution_count": 16
        }
      ]
    },
    {
      "cell_type": "code",
      "source": [
        "video_func(EnvWrapper(env=PushAndPullSokobanEnv, dim_room=(7,7), num_boxes=1, max_steps=20, mode='rgb_array', seed=101, crop=False), agent2)"
      ],
      "metadata": {
        "colab": {
          "base_uri": "https://localhost:8080/",
          "height": 501
        },
        "id": "L4Pc2FDgrkSc",
        "outputId": "5acde31f-95c2-47a3-8b6e-3bfd4460040c"
      },
      "execution_count": null,
      "outputs": [
        {
          "output_type": "execute_result",
          "data": {
            "text/plain": [
              "<IPython.core.display.HTML object>"
            ],
            "text/html": [
              "\n",
              "    <video width=\"640\" height=\"480\" controls>\n",
              "      <source src=\"data:video/mp4;base64,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\" type=\"video/mp4\">\n",
              "    Your browser does not support the video tag.\n",
              "    </video>"
            ]
          },
          "metadata": {},
          "execution_count": 17
        }
      ]
    },
    {
      "cell_type": "code",
      "source": [
        "video_func(EnvWrapper(env=PushAndPullSokobanEnv, dim_room=(7,7), num_boxes=1, max_steps=20, mode='rgb_array', seed=102, crop=False), agent2)"
      ],
      "metadata": {
        "colab": {
          "base_uri": "https://localhost:8080/",
          "height": 501
        },
        "id": "tZEUy_uKrkgP",
        "outputId": "4fa351a7-629b-4ea2-cc37-2b7516f0719d"
      },
      "execution_count": null,
      "outputs": [
        {
          "output_type": "execute_result",
          "data": {
            "text/plain": [
              "<IPython.core.display.HTML object>"
            ],
            "text/html": [
              "\n",
              "    <video width=\"640\" height=\"480\" controls>\n",
              "      <source src=\"data:video/mp4;base64,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\" type=\"video/mp4\">\n",
              "    Your browser does not support the video tag.\n",
              "    </video>"
            ]
          },
          "metadata": {},
          "execution_count": 18
        }
      ]
    },
    {
      "cell_type": "code",
      "source": [
        "video_func(EnvWrapper(env=PushAndPullSokobanEnv, dim_room=(7,7), num_boxes=1, max_steps=20, mode='rgb_array', seed=103, crop=False), agent2)"
      ],
      "metadata": {
        "colab": {
          "base_uri": "https://localhost:8080/",
          "height": 501
        },
        "id": "TTfd_OpEr08s",
        "outputId": "e938f7e4-c686-4b33-8a76-4ad1ab729dde"
      },
      "execution_count": null,
      "outputs": [
        {
          "output_type": "execute_result",
          "data": {
            "text/plain": [
              "<IPython.core.display.HTML object>"
            ],
            "text/html": [
              "\n",
              "    <video width=\"640\" height=\"480\" controls>\n",
              "      <source src=\"data:video/mp4;base64,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\" type=\"video/mp4\">\n",
              "    Your browser does not support the video tag.\n",
              "    </video>"
            ]
          },
          "metadata": {},
          "execution_count": 22
        }
      ]
    },
    {
      "cell_type": "markdown",
      "source": [
        "---"
      ],
      "metadata": {
        "id": "pF2wTcnOI1ws"
      }
    }
  ],
  "metadata": {
    "colab": {
      "provenance": []
    },
    "gpuClass": "standard",
    "kernelspec": {
      "display_name": "Python 3",
      "name": "python3"
    }
  },
  "nbformat": 4,
  "nbformat_minor": 0
}